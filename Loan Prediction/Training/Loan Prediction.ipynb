{
 "cells": [
  {
   "cell_type": "code",
   "execution_count": 1,
   "metadata": {},
   "outputs": [],
   "source": [
    "import pandas as pd\n",
    "import numpy as pd\n",
    "import pickle\n",
    "import matplotlib.pyplot as plt\n",
    "%matplotlib inline\n",
    "import seaborn as sns \n",
    "import sklearn \n",
    "from sklearn.tree import DecisionTreeClassifier\n",
    "from sklearn.ensemble import GradientBoostingClassifier,RandomForestClassifier\n",
    "from sklearn.neighbors import  KNeighborsClassifier\n",
    "from sklearn.model_selection import RandomizedSearchCV\n",
    "import imblearn\n",
    "from sklearn.model_selection import train_test_split\n",
    "from sklearn.preprocessing import StandardScaler\n",
    "from sklearn.metrics import accuracy_score,classification_report,confusion_matrix,f1_score"
   ]
  },
  {
   "cell_type": "code",
   "execution_count": 2,
   "metadata": {},
   "outputs": [],
   "source": [
    "import os"
   ]
  },
  {
   "cell_type": "code",
   "execution_count": 3,
   "metadata": {},
   "outputs": [
    {
     "data": {
      "text/plain": [
       "'c:\\\\Users\\\\ELCOT\\\\Desktop\\\\project'"
      ]
     },
     "execution_count": 3,
     "metadata": {},
     "output_type": "execute_result"
    }
   ],
   "source": [
    "os.getcwd()"
   ]
  },
  {
   "cell_type": "code",
   "execution_count": 4,
   "metadata": {},
   "outputs": [],
   "source": [
    "import pandas as pd"
   ]
  },
  {
   "cell_type": "code",
   "execution_count": 5,
   "metadata": {},
   "outputs": [],
   "source": [
    "data = pd.read_csv('C:\\\\Users\\\\ELCOT\\\\Desktop\\\\project\\\\data\\lone_prediction.csv')"
   ]
  },
  {
   "cell_type": "code",
   "execution_count": 6,
   "metadata": {},
   "outputs": [
    {
     "data": {
      "text/html": [
       "<div>\n",
       "<style scoped>\n",
       "    .dataframe tbody tr th:only-of-type {\n",
       "        vertical-align: middle;\n",
       "    }\n",
       "\n",
       "    .dataframe tbody tr th {\n",
       "        vertical-align: top;\n",
       "    }\n",
       "\n",
       "    .dataframe thead th {\n",
       "        text-align: right;\n",
       "    }\n",
       "</style>\n",
       "<table border=\"1\" class=\"dataframe\">\n",
       "  <thead>\n",
       "    <tr style=\"text-align: right;\">\n",
       "      <th></th>\n",
       "      <th>Loan_ID</th>\n",
       "      <th>Gender</th>\n",
       "      <th>Married</th>\n",
       "      <th>Dependents</th>\n",
       "      <th>Education</th>\n",
       "      <th>Self_Employed</th>\n",
       "      <th>ApplicantIncome</th>\n",
       "      <th>CoapplicantIncome</th>\n",
       "      <th>LoanAmount</th>\n",
       "      <th>Loan_Amount_Term</th>\n",
       "      <th>Credit_History</th>\n",
       "      <th>Property_Area</th>\n",
       "      <th>Loan_Status</th>\n",
       "    </tr>\n",
       "  </thead>\n",
       "  <tbody>\n",
       "    <tr>\n",
       "      <th>0</th>\n",
       "      <td>LP001002</td>\n",
       "      <td>Male</td>\n",
       "      <td>No</td>\n",
       "      <td>0</td>\n",
       "      <td>Graduate</td>\n",
       "      <td>No</td>\n",
       "      <td>5849</td>\n",
       "      <td>0.0</td>\n",
       "      <td>NaN</td>\n",
       "      <td>360.0</td>\n",
       "      <td>1.0</td>\n",
       "      <td>Urban</td>\n",
       "      <td>Y</td>\n",
       "    </tr>\n",
       "    <tr>\n",
       "      <th>1</th>\n",
       "      <td>LP001003</td>\n",
       "      <td>Male</td>\n",
       "      <td>Yes</td>\n",
       "      <td>1</td>\n",
       "      <td>Graduate</td>\n",
       "      <td>No</td>\n",
       "      <td>4583</td>\n",
       "      <td>1508.0</td>\n",
       "      <td>128.0</td>\n",
       "      <td>360.0</td>\n",
       "      <td>1.0</td>\n",
       "      <td>Rural</td>\n",
       "      <td>N</td>\n",
       "    </tr>\n",
       "    <tr>\n",
       "      <th>2</th>\n",
       "      <td>LP001005</td>\n",
       "      <td>Male</td>\n",
       "      <td>Yes</td>\n",
       "      <td>0</td>\n",
       "      <td>Graduate</td>\n",
       "      <td>Yes</td>\n",
       "      <td>3000</td>\n",
       "      <td>0.0</td>\n",
       "      <td>66.0</td>\n",
       "      <td>360.0</td>\n",
       "      <td>1.0</td>\n",
       "      <td>Urban</td>\n",
       "      <td>Y</td>\n",
       "    </tr>\n",
       "    <tr>\n",
       "      <th>3</th>\n",
       "      <td>LP001006</td>\n",
       "      <td>Male</td>\n",
       "      <td>Yes</td>\n",
       "      <td>0</td>\n",
       "      <td>Not Graduate</td>\n",
       "      <td>No</td>\n",
       "      <td>2583</td>\n",
       "      <td>2358.0</td>\n",
       "      <td>120.0</td>\n",
       "      <td>360.0</td>\n",
       "      <td>1.0</td>\n",
       "      <td>Urban</td>\n",
       "      <td>Y</td>\n",
       "    </tr>\n",
       "    <tr>\n",
       "      <th>4</th>\n",
       "      <td>LP001008</td>\n",
       "      <td>Male</td>\n",
       "      <td>No</td>\n",
       "      <td>0</td>\n",
       "      <td>Graduate</td>\n",
       "      <td>No</td>\n",
       "      <td>6000</td>\n",
       "      <td>0.0</td>\n",
       "      <td>141.0</td>\n",
       "      <td>360.0</td>\n",
       "      <td>1.0</td>\n",
       "      <td>Urban</td>\n",
       "      <td>Y</td>\n",
       "    </tr>\n",
       "  </tbody>\n",
       "</table>\n",
       "</div>"
      ],
      "text/plain": [
       "    Loan_ID Gender Married Dependents     Education Self_Employed   \n",
       "0  LP001002   Male      No          0      Graduate            No  \\\n",
       "1  LP001003   Male     Yes          1      Graduate            No   \n",
       "2  LP001005   Male     Yes          0      Graduate           Yes   \n",
       "3  LP001006   Male     Yes          0  Not Graduate            No   \n",
       "4  LP001008   Male      No          0      Graduate            No   \n",
       "\n",
       "   ApplicantIncome  CoapplicantIncome  LoanAmount  Loan_Amount_Term   \n",
       "0             5849                0.0         NaN             360.0  \\\n",
       "1             4583             1508.0       128.0             360.0   \n",
       "2             3000                0.0        66.0             360.0   \n",
       "3             2583             2358.0       120.0             360.0   \n",
       "4             6000                0.0       141.0             360.0   \n",
       "\n",
       "   Credit_History Property_Area Loan_Status  \n",
       "0             1.0         Urban           Y  \n",
       "1             1.0         Rural           N  \n",
       "2             1.0         Urban           Y  \n",
       "3             1.0         Urban           Y  \n",
       "4             1.0         Urban           Y  "
      ]
     },
     "execution_count": 6,
     "metadata": {},
     "output_type": "execute_result"
    }
   ],
   "source": [
    "data.head()"
   ]
  },
  {
   "cell_type": "code",
   "execution_count": 7,
   "metadata": {},
   "outputs": [
    {
     "data": {
      "text/html": [
       "<div>\n",
       "<style scoped>\n",
       "    .dataframe tbody tr th:only-of-type {\n",
       "        vertical-align: middle;\n",
       "    }\n",
       "\n",
       "    .dataframe tbody tr th {\n",
       "        vertical-align: top;\n",
       "    }\n",
       "\n",
       "    .dataframe thead th {\n",
       "        text-align: right;\n",
       "    }\n",
       "</style>\n",
       "<table border=\"1\" class=\"dataframe\">\n",
       "  <thead>\n",
       "    <tr style=\"text-align: right;\">\n",
       "      <th></th>\n",
       "      <th>Loan_ID</th>\n",
       "      <th>Gender</th>\n",
       "      <th>Married</th>\n",
       "      <th>Dependents</th>\n",
       "      <th>Education</th>\n",
       "      <th>Self_Employed</th>\n",
       "      <th>ApplicantIncome</th>\n",
       "      <th>CoapplicantIncome</th>\n",
       "      <th>LoanAmount</th>\n",
       "      <th>Loan_Amount_Term</th>\n",
       "      <th>Credit_History</th>\n",
       "      <th>Property_Area</th>\n",
       "      <th>Loan_Status</th>\n",
       "    </tr>\n",
       "  </thead>\n",
       "  <tbody>\n",
       "    <tr>\n",
       "      <th>609</th>\n",
       "      <td>LP002978</td>\n",
       "      <td>Female</td>\n",
       "      <td>No</td>\n",
       "      <td>0</td>\n",
       "      <td>Graduate</td>\n",
       "      <td>No</td>\n",
       "      <td>2900</td>\n",
       "      <td>0.0</td>\n",
       "      <td>71.0</td>\n",
       "      <td>360.0</td>\n",
       "      <td>1.0</td>\n",
       "      <td>Rural</td>\n",
       "      <td>Y</td>\n",
       "    </tr>\n",
       "    <tr>\n",
       "      <th>610</th>\n",
       "      <td>LP002979</td>\n",
       "      <td>Male</td>\n",
       "      <td>Yes</td>\n",
       "      <td>3+</td>\n",
       "      <td>Graduate</td>\n",
       "      <td>No</td>\n",
       "      <td>4106</td>\n",
       "      <td>0.0</td>\n",
       "      <td>40.0</td>\n",
       "      <td>180.0</td>\n",
       "      <td>1.0</td>\n",
       "      <td>Rural</td>\n",
       "      <td>Y</td>\n",
       "    </tr>\n",
       "    <tr>\n",
       "      <th>611</th>\n",
       "      <td>LP002983</td>\n",
       "      <td>Male</td>\n",
       "      <td>Yes</td>\n",
       "      <td>1</td>\n",
       "      <td>Graduate</td>\n",
       "      <td>No</td>\n",
       "      <td>8072</td>\n",
       "      <td>240.0</td>\n",
       "      <td>253.0</td>\n",
       "      <td>360.0</td>\n",
       "      <td>1.0</td>\n",
       "      <td>Urban</td>\n",
       "      <td>Y</td>\n",
       "    </tr>\n",
       "    <tr>\n",
       "      <th>612</th>\n",
       "      <td>LP002984</td>\n",
       "      <td>Male</td>\n",
       "      <td>Yes</td>\n",
       "      <td>2</td>\n",
       "      <td>Graduate</td>\n",
       "      <td>No</td>\n",
       "      <td>7583</td>\n",
       "      <td>0.0</td>\n",
       "      <td>187.0</td>\n",
       "      <td>360.0</td>\n",
       "      <td>1.0</td>\n",
       "      <td>Urban</td>\n",
       "      <td>Y</td>\n",
       "    </tr>\n",
       "    <tr>\n",
       "      <th>613</th>\n",
       "      <td>LP002990</td>\n",
       "      <td>Female</td>\n",
       "      <td>No</td>\n",
       "      <td>0</td>\n",
       "      <td>Graduate</td>\n",
       "      <td>Yes</td>\n",
       "      <td>4583</td>\n",
       "      <td>0.0</td>\n",
       "      <td>133.0</td>\n",
       "      <td>360.0</td>\n",
       "      <td>0.0</td>\n",
       "      <td>Semiurban</td>\n",
       "      <td>N</td>\n",
       "    </tr>\n",
       "  </tbody>\n",
       "</table>\n",
       "</div>"
      ],
      "text/plain": [
       "      Loan_ID  Gender Married Dependents Education Self_Employed   \n",
       "609  LP002978  Female      No          0  Graduate            No  \\\n",
       "610  LP002979    Male     Yes         3+  Graduate            No   \n",
       "611  LP002983    Male     Yes          1  Graduate            No   \n",
       "612  LP002984    Male     Yes          2  Graduate            No   \n",
       "613  LP002990  Female      No          0  Graduate           Yes   \n",
       "\n",
       "     ApplicantIncome  CoapplicantIncome  LoanAmount  Loan_Amount_Term   \n",
       "609             2900                0.0        71.0             360.0  \\\n",
       "610             4106                0.0        40.0             180.0   \n",
       "611             8072              240.0       253.0             360.0   \n",
       "612             7583                0.0       187.0             360.0   \n",
       "613             4583                0.0       133.0             360.0   \n",
       "\n",
       "     Credit_History Property_Area Loan_Status  \n",
       "609             1.0         Rural           Y  \n",
       "610             1.0         Rural           Y  \n",
       "611             1.0         Urban           Y  \n",
       "612             1.0         Urban           Y  \n",
       "613             0.0     Semiurban           N  "
      ]
     },
     "execution_count": 7,
     "metadata": {},
     "output_type": "execute_result"
    }
   ],
   "source": [
    "data.tail()"
   ]
  },
  {
   "cell_type": "code",
   "execution_count": 8,
   "metadata": {},
   "outputs": [
    {
     "data": {
      "text/plain": [
       "Loan_Status\n",
       "Y    422\n",
       "N    192\n",
       "Name: count, dtype: int64"
      ]
     },
     "execution_count": 8,
     "metadata": {},
     "output_type": "execute_result"
    }
   ],
   "source": [
    "data.Loan_Status.value_counts()"
   ]
  },
  {
   "cell_type": "code",
   "execution_count": 9,
   "metadata": {},
   "outputs": [
    {
     "data": {
      "text/plain": [
       "(614, 13)"
      ]
     },
     "execution_count": 9,
     "metadata": {},
     "output_type": "execute_result"
    }
   ],
   "source": [
    "data.shape"
   ]
  },
  {
   "cell_type": "code",
   "execution_count": 10,
   "metadata": {},
   "outputs": [
    {
     "name": "stdout",
     "output_type": "stream",
     "text": [
      "<class 'pandas.core.frame.DataFrame'>\n",
      "RangeIndex: 614 entries, 0 to 613\n",
      "Data columns (total 13 columns):\n",
      " #   Column             Non-Null Count  Dtype  \n",
      "---  ------             --------------  -----  \n",
      " 0   Loan_ID            614 non-null    object \n",
      " 1   Gender             601 non-null    object \n",
      " 2   Married            611 non-null    object \n",
      " 3   Dependents         599 non-null    object \n",
      " 4   Education          614 non-null    object \n",
      " 5   Self_Employed      582 non-null    object \n",
      " 6   ApplicantIncome    614 non-null    int64  \n",
      " 7   CoapplicantIncome  614 non-null    float64\n",
      " 8   LoanAmount         592 non-null    float64\n",
      " 9   Loan_Amount_Term   600 non-null    float64\n",
      " 10  Credit_History     564 non-null    float64\n",
      " 11  Property_Area      614 non-null    object \n",
      " 12  Loan_Status        614 non-null    object \n",
      "dtypes: float64(4), int64(1), object(8)\n",
      "memory usage: 62.5+ KB\n"
     ]
    }
   ],
   "source": [
    "data.info()"
   ]
  },
  {
   "cell_type": "code",
   "execution_count": 11,
   "metadata": {},
   "outputs": [
    {
     "data": {
      "text/plain": [
       "Loan_ID               0\n",
       "Gender               13\n",
       "Married               3\n",
       "Dependents           15\n",
       "Education             0\n",
       "Self_Employed        32\n",
       "ApplicantIncome       0\n",
       "CoapplicantIncome     0\n",
       "LoanAmount           22\n",
       "Loan_Amount_Term     14\n",
       "Credit_History       50\n",
       "Property_Area         0\n",
       "Loan_Status           0\n",
       "dtype: int64"
      ]
     },
     "execution_count": 11,
     "metadata": {},
     "output_type": "execute_result"
    }
   ],
   "source": [
    "data.isnull().sum()"
   ]
  },
  {
   "cell_type": "code",
   "execution_count": 12,
   "metadata": {},
   "outputs": [],
   "source": [
    "data['Gender'] = data['Gender'].fillna(data['Gender'].mode()[0])\n",
    "data['Married'] = data['Married'].fillna(data['Married'].mode()[0])\n",
    "#replasing + with space for filling the non value\n",
    "data['Dependents']=data['Dependents'].str.replace('+','')\n",
    "data['Dependents'] = data['Dependents'].fillna(data['Dependents'].mode()[0])\n",
    "data['Self_Employed'] = data['Self_Employed'].fillna(data['Self_Employed'].mode()[0])\n",
    "data['LoanAmount'] = data['LoanAmount'].fillna(data['LoanAmount'].mode()[0])\n",
    "data['Loan_Amount_Term'] = data['Loan_Amount_Term'].fillna(data['Loan_Amount_Term'].mode()[0])\n",
    "data['Credit_History'] = data['Credit_History'].fillna(data['Credit_History'].mode()[0])\n",
    "#data['LoanAmount'].fillna(value = data'LoanAmount'].mean(), implace = Ture)\n"
   ]
  },
  {
   "cell_type": "code",
   "execution_count": 13,
   "metadata": {},
   "outputs": [],
   "source": [
    "data['CoapplicantIncome']=data['CoapplicantIncome'].astype('int64') \n",
    "data['LoanAmount']=data['LoanAmount'].astype('int64')\n",
    "data['Loan_Amount_Term']=data['Loan_Amount_Term'].astype('int64') \n",
    "data['Credit_History']=data['Credit_History'].astype('int64')\n",
    "\n",
    "\n"
   ]
  },
  {
   "cell_type": "code",
   "execution_count": 14,
   "metadata": {},
   "outputs": [],
   "source": [
    "from imblearn.combine import SMOTETomek"
   ]
  },
  {
   "cell_type": "code",
   "execution_count": 15,
   "metadata": {},
   "outputs": [],
   "source": [
    "y = data['Loan_Status']\n",
    "x = data.drop(columns=['Loan_Status'],axis=1)"
   ]
  },
  {
   "cell_type": "code",
   "execution_count": 16,
   "metadata": {},
   "outputs": [
    {
     "data": {
      "text/html": [
       "<div>\n",
       "<style scoped>\n",
       "    .dataframe tbody tr th:only-of-type {\n",
       "        vertical-align: middle;\n",
       "    }\n",
       "\n",
       "    .dataframe tbody tr th {\n",
       "        vertical-align: top;\n",
       "    }\n",
       "\n",
       "    .dataframe thead th {\n",
       "        text-align: right;\n",
       "    }\n",
       "</style>\n",
       "<table border=\"1\" class=\"dataframe\">\n",
       "  <thead>\n",
       "    <tr style=\"text-align: right;\">\n",
       "      <th></th>\n",
       "      <th>ApplicantIncome</th>\n",
       "      <th>CoapplicantIncome</th>\n",
       "      <th>LoanAmount</th>\n",
       "      <th>Loan_Amount_Term</th>\n",
       "      <th>Credit_History</th>\n",
       "    </tr>\n",
       "  </thead>\n",
       "  <tbody>\n",
       "    <tr>\n",
       "      <th>count</th>\n",
       "      <td>614.000000</td>\n",
       "      <td>614.00000</td>\n",
       "      <td>614.000000</td>\n",
       "      <td>614.000000</td>\n",
       "      <td>614.000000</td>\n",
       "    </tr>\n",
       "    <tr>\n",
       "      <th>mean</th>\n",
       "      <td>5403.459283</td>\n",
       "      <td>1621.24430</td>\n",
       "      <td>145.465798</td>\n",
       "      <td>342.410423</td>\n",
       "      <td>0.855049</td>\n",
       "    </tr>\n",
       "    <tr>\n",
       "      <th>std</th>\n",
       "      <td>6109.041673</td>\n",
       "      <td>2926.24876</td>\n",
       "      <td>84.180967</td>\n",
       "      <td>64.428629</td>\n",
       "      <td>0.352339</td>\n",
       "    </tr>\n",
       "    <tr>\n",
       "      <th>min</th>\n",
       "      <td>150.000000</td>\n",
       "      <td>0.00000</td>\n",
       "      <td>9.000000</td>\n",
       "      <td>12.000000</td>\n",
       "      <td>0.000000</td>\n",
       "    </tr>\n",
       "    <tr>\n",
       "      <th>25%</th>\n",
       "      <td>2877.500000</td>\n",
       "      <td>0.00000</td>\n",
       "      <td>100.250000</td>\n",
       "      <td>360.000000</td>\n",
       "      <td>1.000000</td>\n",
       "    </tr>\n",
       "    <tr>\n",
       "      <th>50%</th>\n",
       "      <td>3812.500000</td>\n",
       "      <td>1188.50000</td>\n",
       "      <td>125.000000</td>\n",
       "      <td>360.000000</td>\n",
       "      <td>1.000000</td>\n",
       "    </tr>\n",
       "    <tr>\n",
       "      <th>75%</th>\n",
       "      <td>5795.000000</td>\n",
       "      <td>2297.25000</td>\n",
       "      <td>164.750000</td>\n",
       "      <td>360.000000</td>\n",
       "      <td>1.000000</td>\n",
       "    </tr>\n",
       "    <tr>\n",
       "      <th>max</th>\n",
       "      <td>81000.000000</td>\n",
       "      <td>41667.00000</td>\n",
       "      <td>700.000000</td>\n",
       "      <td>480.000000</td>\n",
       "      <td>1.000000</td>\n",
       "    </tr>\n",
       "  </tbody>\n",
       "</table>\n",
       "</div>"
      ],
      "text/plain": [
       "       ApplicantIncome  CoapplicantIncome  LoanAmount  Loan_Amount_Term   \n",
       "count       614.000000          614.00000  614.000000        614.000000  \\\n",
       "mean       5403.459283         1621.24430  145.465798        342.410423   \n",
       "std        6109.041673         2926.24876   84.180967         64.428629   \n",
       "min         150.000000            0.00000    9.000000         12.000000   \n",
       "25%        2877.500000            0.00000  100.250000        360.000000   \n",
       "50%        3812.500000         1188.50000  125.000000        360.000000   \n",
       "75%        5795.000000         2297.25000  164.750000        360.000000   \n",
       "max       81000.000000        41667.00000  700.000000        480.000000   \n",
       "\n",
       "       Credit_History  \n",
       "count      614.000000  \n",
       "mean         0.855049  \n",
       "std          0.352339  \n",
       "min          0.000000  \n",
       "25%          1.000000  \n",
       "50%          1.000000  \n",
       "75%          1.000000  \n",
       "max          1.000000  "
      ]
     },
     "execution_count": 16,
     "metadata": {},
     "output_type": "execute_result"
    }
   ],
   "source": [
    "data.describe()"
   ]
  },
  {
   "cell_type": "code",
   "execution_count": 17,
   "metadata": {},
   "outputs": [
    {
     "name": "stderr",
     "output_type": "stream",
     "text": [
      "C:\\Users\\ELCOT\\AppData\\Local\\Temp\\ipykernel_11036\\1238407493.py:3: UserWarning: \n",
      "\n",
      "`distplot` is a deprecated function and will be removed in seaborn v0.14.0.\n",
      "\n",
      "Please adapt your code to use either `displot` (a figure-level function with\n",
      "similar flexibility) or `histplot` (an axes-level function for histograms).\n",
      "\n",
      "For a guide to updating your code to use the new functions, please see\n",
      "https://gist.github.com/mwaskom/de44147ed2974457ad6372750bbe5751\n",
      "\n",
      "  sns.distplot(data['ApplicantIncome'], color='r')\n",
      "C:\\Users\\ELCOT\\AppData\\Local\\Temp\\ipykernel_11036\\1238407493.py:5: UserWarning: \n",
      "\n",
      "`distplot` is a deprecated function and will be removed in seaborn v0.14.0.\n",
      "\n",
      "Please adapt your code to use either `displot` (a figure-level function with\n",
      "similar flexibility) or `histplot` (an axes-level function for histograms).\n",
      "\n",
      "For a guide to updating your code to use the new functions, please see\n",
      "https://gist.github.com/mwaskom/de44147ed2974457ad6372750bbe5751\n",
      "\n",
      "  sns.distplot(data['Credit_History'])\n"
     ]
    },
    {
     "data": {
      "image/png": "[encoded data removed]",
      "text/plain": [
       "<Figure size 1200x500 with 2 Axes>"
      ]
     },
     "metadata": {},
     "output_type": "display_data"
    }
   ],
   "source": [
    "plt.figure(figsize=(12,5))\n",
    "plt.subplot(121)\n",
    "sns.distplot(data['ApplicantIncome'], color='r')\n",
    "plt.subplot(122)\n",
    "sns.distplot(data['Credit_History'])\n",
    "plt.show()\n"
   ]
  },
  {
   "cell_type": "code",
   "execution_count": 18,
   "metadata": {},
   "outputs": [
    {
     "data": {
      "image/png": "[encoded data removed]",
      "text/plain": [
       "<Figure size 1800x400 with 2 Axes>"
      ]
     },
     "metadata": {},
     "output_type": "display_data"
    }
   ],
   "source": [
    "plt.figure(figsize=(18,4))\n",
    "plt.subplot(1,4,1)\n",
    "sns.countplot(x = data['Gender'])\n",
    "plt.subplot(1,4,2)\n",
    "sns.countplot(x = data['Education'])\n",
    "plt.show()\n"
   ]
  },
  {
   "cell_type": "code",
   "execution_count": 19,
   "metadata": {},
   "outputs": [
    {
     "data": {
      "text/plain": [
       "<Axes: xlabel='Property_Area', ylabel='count'>"
      ]
     },
     "execution_count": 19,
     "metadata": {},
     "output_type": "execute_result"
    },
    {
     "data": {
      "image/png": "[encoded data removed]",
      "text/plain": [
       "<Figure size 2000x500 with 3 Axes>"
      ]
     },
     "metadata": {},
     "output_type": "display_data"
    }
   ],
   "source": [
    "plt.figure(figsize=(20,5))\n",
    "plt.subplot(131)\n",
    "sns.countplot(x = data['Married'], hue=data['Gender'])\n",
    "plt.subplot(132)\n",
    "sns.countplot(x = data['Self_Employed'], hue=data['Education'])\n",
    "plt.subplot(133)\n",
    "sns.countplot(x = data['Property_Area'], hue=data['Loan_Amount_Term'])\n"
   ]
  },
  {
   "cell_type": "code",
   "execution_count": 20,
   "metadata": {},
   "outputs": [
    {
     "name": "stderr",
     "output_type": "stream",
     "text": [
      "C:\\Users\\ELCOT\\AppData\\Roaming\\Python\\Python311\\site-packages\\seaborn\\categorical.py:3544: UserWarning: 45.8% of the points cannot be placed; you may want to decrease the size of the markers or use stripplot.\n",
      "  warnings.warn(msg, UserWarning)\n"
     ]
    },
    {
     "data": {
      "text/plain": [
       "<Axes: xlabel='Gender', ylabel='ApplicantIncome'>"
      ]
     },
     "execution_count": 20,
     "metadata": {},
     "output_type": "execute_result"
    },
    {
     "name": "stderr",
     "output_type": "stream",
     "text": [
      "C:\\Users\\ELCOT\\AppData\\Roaming\\Python\\Python311\\site-packages\\seaborn\\categorical.py:3544: UserWarning: 61.6% of the points cannot be placed; you may want to decrease the size of the markers or use stripplot.\n",
      "  warnings.warn(msg, UserWarning)\n",
      "C:\\Users\\ELCOT\\AppData\\Roaming\\Python\\Python311\\site-packages\\seaborn\\categorical.py:3544: UserWarning: 25.0% of the points cannot be placed; you may want to decrease the size of the markers or use stripplot.\n",
      "  warnings.warn(msg, UserWarning)\n"
     ]
    },
    {
     "data": {
      "image/png": "[encoded data removed]",
      "text/plain": [
       "<Figure size 640x480 with 1 Axes>"
      ]
     },
     "metadata": {},
     "output_type": "display_data"
    }
   ],
   "source": [
    "sns.swarmplot(x=data['Gender'],y=data['ApplicantIncome'], hue = data['Loan_Status'])"
   ]
  },
  {
   "cell_type": "code",
   "execution_count": 21,
   "metadata": {},
   "outputs": [
    {
     "data": {
      "text/html": [
       "<div>\n",
       "<style scoped>\n",
       "    .dataframe tbody tr th:only-of-type {\n",
       "        vertical-align: middle;\n",
       "    }\n",
       "\n",
       "    .dataframe tbody tr th {\n",
       "        vertical-align: top;\n",
       "    }\n",
       "\n",
       "    .dataframe thead th {\n",
       "        text-align: right;\n",
       "    }\n",
       "</style>\n",
       "<table border=\"1\" class=\"dataframe\">\n",
       "  <thead>\n",
       "    <tr style=\"text-align: right;\">\n",
       "      <th></th>\n",
       "      <th>Loan_ID</th>\n",
       "      <th>Gender</th>\n",
       "      <th>Married</th>\n",
       "      <th>Dependents</th>\n",
       "      <th>Education</th>\n",
       "      <th>Self_Employed</th>\n",
       "      <th>ApplicantIncome</th>\n",
       "      <th>CoapplicantIncome</th>\n",
       "      <th>LoanAmount</th>\n",
       "      <th>Loan_Amount_Term</th>\n",
       "      <th>Credit_History</th>\n",
       "      <th>Property_Area</th>\n",
       "      <th>Loan_Status</th>\n",
       "    </tr>\n",
       "  </thead>\n",
       "  <tbody>\n",
       "    <tr>\n",
       "      <th>0</th>\n",
       "      <td>LP001002</td>\n",
       "      <td>1</td>\n",
       "      <td>0</td>\n",
       "      <td>0</td>\n",
       "      <td>0</td>\n",
       "      <td>0</td>\n",
       "      <td>5849</td>\n",
       "      <td>0</td>\n",
       "      <td>120</td>\n",
       "      <td>360</td>\n",
       "      <td>1</td>\n",
       "      <td>2</td>\n",
       "      <td>1</td>\n",
       "    </tr>\n",
       "    <tr>\n",
       "      <th>1</th>\n",
       "      <td>LP001003</td>\n",
       "      <td>1</td>\n",
       "      <td>1</td>\n",
       "      <td>1</td>\n",
       "      <td>0</td>\n",
       "      <td>0</td>\n",
       "      <td>4583</td>\n",
       "      <td>1508</td>\n",
       "      <td>128</td>\n",
       "      <td>360</td>\n",
       "      <td>1</td>\n",
       "      <td>0</td>\n",
       "      <td>0</td>\n",
       "    </tr>\n",
       "    <tr>\n",
       "      <th>2</th>\n",
       "      <td>LP001005</td>\n",
       "      <td>1</td>\n",
       "      <td>1</td>\n",
       "      <td>0</td>\n",
       "      <td>0</td>\n",
       "      <td>1</td>\n",
       "      <td>3000</td>\n",
       "      <td>0</td>\n",
       "      <td>66</td>\n",
       "      <td>360</td>\n",
       "      <td>1</td>\n",
       "      <td>2</td>\n",
       "      <td>1</td>\n",
       "    </tr>\n",
       "    <tr>\n",
       "      <th>3</th>\n",
       "      <td>LP001006</td>\n",
       "      <td>1</td>\n",
       "      <td>1</td>\n",
       "      <td>0</td>\n",
       "      <td>1</td>\n",
       "      <td>0</td>\n",
       "      <td>2583</td>\n",
       "      <td>2358</td>\n",
       "      <td>120</td>\n",
       "      <td>360</td>\n",
       "      <td>1</td>\n",
       "      <td>2</td>\n",
       "      <td>1</td>\n",
       "    </tr>\n",
       "    <tr>\n",
       "      <th>4</th>\n",
       "      <td>LP001008</td>\n",
       "      <td>1</td>\n",
       "      <td>0</td>\n",
       "      <td>0</td>\n",
       "      <td>0</td>\n",
       "      <td>0</td>\n",
       "      <td>6000</td>\n",
       "      <td>0</td>\n",
       "      <td>141</td>\n",
       "      <td>360</td>\n",
       "      <td>1</td>\n",
       "      <td>2</td>\n",
       "      <td>1</td>\n",
       "    </tr>\n",
       "  </tbody>\n",
       "</table>\n",
       "</div>"
      ],
      "text/plain": [
       "    Loan_ID  Gender  Married  Dependents  Education  Self_Employed   \n",
       "0  LP001002       1        0           0          0              0  \\\n",
       "1  LP001003       1        1           1          0              0   \n",
       "2  LP001005       1        1           0          0              1   \n",
       "3  LP001006       1        1           0          1              0   \n",
       "4  LP001008       1        0           0          0              0   \n",
       "\n",
       "   ApplicantIncome  CoapplicantIncome  LoanAmount  Loan_Amount_Term   \n",
       "0             5849                  0         120               360  \\\n",
       "1             4583               1508         128               360   \n",
       "2             3000                  0          66               360   \n",
       "3             2583               2358         120               360   \n",
       "4             6000                  0         141               360   \n",
       "\n",
       "   Credit_History  Property_Area  Loan_Status  \n",
       "0               1              2            1  \n",
       "1               1              0            0  \n",
       "2               1              2            1  \n",
       "3               1              2            1  \n",
       "4               1              2            1  "
      ]
     },
     "execution_count": 21,
     "metadata": {},
     "output_type": "execute_result"
    }
   ],
   "source": [
    "from sklearn.preprocessing import LabelEncoder\n",
    "le = LabelEncoder()\n",
    "col = ['Gender','Married','Dependents','Education','Self_Employed','Property_Area','Loan_Status']\n",
    "for i in col:\n",
    "    data[i] = le.fit_transform(data[i])\n",
    "data.head()"
   ]
  },
  {
   "cell_type": "code",
   "execution_count": 22,
   "metadata": {},
   "outputs": [],
   "source": [
    "x = data.loc[:,'Gender':'Property_Area'].values\n",
    "y = data.loc[:,'Loan_Status'].values"
   ]
  },
  {
   "cell_type": "code",
   "execution_count": 23,
   "metadata": {},
   "outputs": [],
   "source": [
    "from sklearn.preprocessing import StandardScaler\n",
    "sc = StandardScaler()\n",
    "X_train = sc.fit_transform(x)\n",
    "X_test = sc.fit_transform(X_train)"
   ]
  },
  {
   "cell_type": "code",
   "execution_count": 24,
   "metadata": {},
   "outputs": [],
   "source": [
    "from sklearn.model_selection import train_test_split\n",
    "X_train, X_test, y_train, y_test = train_test_split( x,y,test_size=0.2, random_state=42)\n"
   ]
  },
  {
   "cell_type": "code",
   "execution_count": 25,
   "metadata": {},
   "outputs": [],
   "source": [
    "from  sklearn.tree import DecisionTreeClassifier \n",
    "def decisionTree(x_train, x_test, y_train, y_test):\n",
    "    dt=DecisionTreeClassifier()\n",
    "    dt.fit(x_train,y_train)\n",
    "    yPred = dt.predict(x_test) \n",
    "    print('***Decision TreeClassifier***')\n",
    "    print('Confusion matrix') \n",
    "    print(confusion_matrix(y_test,yPred))\n",
    "    print('Classification report')\n",
    "    print(classification_report(y_test,yPred))\n"
   ]
  },
  {
   "cell_type": "code",
   "execution_count": 26,
   "metadata": {},
   "outputs": [],
   "source": [
    "def randomForest(x_train, x_test, y_train, y_test):\n",
    "    rf=RandomForestClassifier() \n",
    "    rf.fit(x_train,y_train)\n",
    "    yPred = rf.predict(x_test)\n",
    "    print('***RandomForestClassifier***')\n",
    "    print('Confusion matrix')\n",
    "    print(confusion_matrix(y_test,yPred))\n",
    "    print('Classification report')\n",
    "    print(classification_report(y_test,yPred))"
   ]
  },
  {
   "cell_type": "code",
   "execution_count": 27,
   "metadata": {},
   "outputs": [],
   "source": [
    "def KNN (x_train, x_test, y_train, y_test): \n",
    "    knn=KNeighborsClassifier() \n",
    "    knn.fit(x_train,y_train)\n",
    "    yPred = knn.predict(x_test)\n",
    "    print('***KNeighborsClassifier***')\n",
    "    print('Confusion matrix')\n",
    "    print(confusion_matrix(y_test,yPred))\n",
    "    print('Classification report')\n",
    "    print(classification_report(y_test,yPred))"
   ]
  },
  {
   "cell_type": "code",
   "execution_count": 28,
   "metadata": {},
   "outputs": [],
   "source": [
    "def xgboost(x_train, x_test, y_train, y_test):\n",
    "    xg=GradientBoostingClassifier()\n",
    "    xg.fit(x_train,y_train)\n",
    "    yPred=xg.predict(x_test)\n",
    "    print('***GradientBoostingClassifier***')\n",
    "    print('Confusion matrix')\n",
    "    print(confusion_matrix(y_test,yPred))\n",
    "    print('Classification report')\n",
    "    print(classification_report(y_test,yPred))\n",
    "\n"
   ]
  },
  {
   "cell_type": "code",
   "execution_count": 29,
   "metadata": {},
   "outputs": [],
   "source": [
    "import tensorflow \n",
    "from tensorflow.keras.models import Sequential\n",
    "from tensorflow.keras.layers import Dense"
   ]
  },
  {
   "cell_type": "code",
   "execution_count": null,
   "metadata": {},
   "outputs": [],
   "source": [
    "classifier = Sequential()"
   ]
  },
  {
   "cell_type": "code",
   "execution_count": null,
   "metadata": {},
   "outputs": [],
   "source": [
    "classifier.add(Dense(units=100, activation='relu', input_dim=11))"
   ]
  },
  {
   "cell_type": "code",
   "execution_count": null,
   "metadata": {},
   "outputs": [],
   "source": [
    "classifier.add(Dense(units=50, activation='relu'))"
   ]
  },
  {
   "cell_type": "code",
   "execution_count": null,
   "metadata": {},
   "outputs": [],
   "source": [
    "classifier.add(Dense(units=1, activation='sigmoid'))"
   ]
  },
  {
   "cell_type": "code",
   "execution_count": null,
   "metadata": {},
   "outputs": [],
   "source": [
    "classifier.compile(optimizer='adam',loss='binary_crossentropy',metrics=['accuracy'])"
   ]
  },
  {
   "cell_type": "code",
   "execution_count": null,
   "metadata": {},
   "outputs": [
    {
     "name": "stdout",
     "output_type": "stream",
     "text": [
      "Epoch 1/100\n",
      "4/4 [==============================] - 11s 374ms/step - loss: 49.4345 - accuracy: 0.5488 - val_loss: 9.1001 - val_accuracy: 0.6627\n",
      "Epoch 2/100\n",
      "4/4 [==============================] - 0s 41ms/step - loss: 21.6716 - accuracy: 0.6372 - val_loss: 21.5124 - val_accuracy: 0.5422\n",
      "Epoch 3/100\n",
      "4/4 [==============================] - 0s 46ms/step - loss: 25.9216 - accuracy: 0.5610 - val_loss: 12.3342 - val_accuracy: 0.7470\n",
      "Epoch 4/100\n",
      "4/4 [==============================] - 0s 39ms/step - loss: 18.5101 - accuracy: 0.6159 - val_loss: 8.5661 - val_accuracy: 0.4940\n",
      "Epoch 5/100\n",
      "4/4 [==============================] - 0s 44ms/step - loss: 12.7316 - accuracy: 0.6189 - val_loss: 8.6756 - val_accuracy: 0.7349\n",
      "Epoch 6/100\n",
      "4/4 [==============================] - 0s 67ms/step - loss: 10.6210 - accuracy: 0.6159 - val_loss: 4.4099 - val_accuracy: 0.6265\n",
      "Epoch 7/100\n",
      "4/4 [==============================] - 0s 39ms/step - loss: 9.3537 - accuracy: 0.6616 - val_loss: 7.6018 - val_accuracy: 0.4699\n",
      "Epoch 8/100\n",
      "4/4 [==============================] - 0s 34ms/step - loss: 10.4485 - accuracy: 0.4177 - val_loss: 12.6857 - val_accuracy: 0.7229\n",
      "Epoch 9/100\n",
      "4/4 [==============================] - 0s 50ms/step - loss: 13.1511 - accuracy: 0.7012 - val_loss: 6.0678 - val_accuracy: 0.5301\n",
      "Epoch 10/100\n",
      "4/4 [==============================] - 0s 51ms/step - loss: 9.5104 - accuracy: 0.5518 - val_loss: 9.7905 - val_accuracy: 0.7470\n",
      "Epoch 11/100\n",
      "4/4 [==============================] - 0s 51ms/step - loss: 8.8294 - accuracy: 0.6494 - val_loss: 3.1871 - val_accuracy: 0.5783\n",
      "Epoch 12/100\n",
      "4/4 [==============================] - 0s 51ms/step - loss: 8.5341 - accuracy: 0.6402 - val_loss: 3.6742 - val_accuracy: 0.6747\n",
      "Epoch 13/100\n",
      "4/4 [==============================] - 0s 44ms/step - loss: 13.4287 - accuracy: 0.4695 - val_loss: 9.1459 - val_accuracy: 0.7229\n",
      "Epoch 14/100\n",
      "4/4 [==============================] - 0s 43ms/step - loss: 16.5286 - accuracy: 0.7104 - val_loss: 25.2294 - val_accuracy: 0.7349\n",
      "Epoch 15/100\n",
      "4/4 [==============================] - 0s 44ms/step - loss: 21.7635 - accuracy: 0.7012 - val_loss: 13.1289 - val_accuracy: 0.5181\n",
      "Epoch 16/100\n",
      "4/4 [==============================] - 0s 54ms/step - loss: 12.8336 - accuracy: 0.4299 - val_loss: 7.5781 - val_accuracy: 0.7229\n",
      "Epoch 17/100\n",
      "4/4 [==============================] - 0s 40ms/step - loss: 10.7586 - accuracy: 0.7134 - val_loss: 5.3977 - val_accuracy: 0.5783\n",
      "Epoch 18/100\n",
      "4/4 [==============================] - 0s 40ms/step - loss: 6.5905 - accuracy: 0.6494 - val_loss: 2.5946 - val_accuracy: 0.6867\n",
      "Epoch 19/100\n",
      "4/4 [==============================] - 0s 40ms/step - loss: 4.9383 - accuracy: 0.5854 - val_loss: 6.2546 - val_accuracy: 0.7108\n",
      "Epoch 20/100\n",
      "4/4 [==============================] - 0s 39ms/step - loss: 6.6427 - accuracy: 0.6860 - val_loss: 5.4584 - val_accuracy: 0.5181\n",
      "Epoch 21/100\n",
      "4/4 [==============================] - 0s 39ms/step - loss: 4.5945 - accuracy: 0.6311 - val_loss: 4.6370 - val_accuracy: 0.6988\n",
      "Epoch 22/100\n",
      "4/4 [==============================] - 0s 40ms/step - loss: 4.0864 - accuracy: 0.6341 - val_loss: 2.9261 - val_accuracy: 0.6506\n",
      "Epoch 23/100\n",
      "4/4 [==============================] - 0s 44ms/step - loss: 3.8468 - accuracy: 0.6311 - val_loss: 2.3780 - val_accuracy: 0.6988\n",
      "Epoch 24/100\n",
      "4/4 [==============================] - 0s 40ms/step - loss: 2.8806 - accuracy: 0.6585 - val_loss: 3.5194 - val_accuracy: 0.4578\n",
      "Epoch 25/100\n",
      "4/4 [==============================] - 0s 40ms/step - loss: 3.3675 - accuracy: 0.6159 - val_loss: 4.8552 - val_accuracy: 0.4940\n",
      "Epoch 26/100\n",
      "4/4 [==============================] - 0s 47ms/step - loss: 5.0389 - accuracy: 0.5945 - val_loss: 2.8062 - val_accuracy: 0.6988\n",
      "Epoch 27/100\n",
      "4/4 [==============================] - 0s 45ms/step - loss: 4.7294 - accuracy: 0.5244 - val_loss: 10.1099 - val_accuracy: 0.7229\n",
      "Epoch 28/100\n",
      "4/4 [==============================] - 0s 41ms/step - loss: 9.9884 - accuracy: 0.6982 - val_loss: 3.6486 - val_accuracy: 0.5060\n",
      "Epoch 29/100\n",
      "4/4 [==============================] - 0s 41ms/step - loss: 3.9814 - accuracy: 0.5854 - val_loss: 3.8991 - val_accuracy: 0.5181\n",
      "Epoch 30/100\n",
      "4/4 [==============================] - 0s 45ms/step - loss: 5.3208 - accuracy: 0.6098 - val_loss: 2.1916 - val_accuracy: 0.6386\n",
      "Epoch 31/100\n",
      "4/4 [==============================] - 0s 43ms/step - loss: 2.9472 - accuracy: 0.6280 - val_loss: 3.6356 - val_accuracy: 0.6747\n",
      "Epoch 32/100\n",
      "4/4 [==============================] - 0s 45ms/step - loss: 3.2644 - accuracy: 0.5823 - val_loss: 6.5586 - val_accuracy: 0.7229\n",
      "Epoch 33/100\n",
      "4/4 [==============================] - 0s 44ms/step - loss: 6.1700 - accuracy: 0.6341 - val_loss: 4.8768 - val_accuracy: 0.7349\n",
      "Epoch 34/100\n",
      "4/4 [==============================] - 0s 40ms/step - loss: 7.9246 - accuracy: 0.6707 - val_loss: 4.4908 - val_accuracy: 0.4940\n",
      "Epoch 35/100\n",
      "4/4 [==============================] - 0s 43ms/step - loss: 12.7746 - accuracy: 0.4634 - val_loss: 9.4063 - val_accuracy: 0.7229\n",
      "Epoch 36/100\n",
      "4/4 [==============================] - 0s 39ms/step - loss: 19.7641 - accuracy: 0.7073 - val_loss: 14.6624 - val_accuracy: 0.7229\n",
      "Epoch 37/100\n",
      "4/4 [==============================] - 0s 40ms/step - loss: 15.6261 - accuracy: 0.6189 - val_loss: 7.6388 - val_accuracy: 0.5301\n",
      "Epoch 38/100\n",
      "4/4 [==============================] - 0s 38ms/step - loss: 6.8554 - accuracy: 0.6341 - val_loss: 4.9906 - val_accuracy: 0.5181\n",
      "Epoch 39/100\n",
      "4/4 [==============================] - 0s 40ms/step - loss: 4.8338 - accuracy: 0.6098 - val_loss: 2.8889 - val_accuracy: 0.6747\n",
      "Epoch 40/100\n",
      "4/4 [==============================] - 0s 39ms/step - loss: 4.5374 - accuracy: 0.6128 - val_loss: 2.7358 - val_accuracy: 0.6265\n",
      "Epoch 41/100\n",
      "4/4 [==============================] - 0s 40ms/step - loss: 4.9243 - accuracy: 0.5762 - val_loss: 6.4808 - val_accuracy: 0.7229\n",
      "Epoch 42/100\n",
      "4/4 [==============================] - 0s 43ms/step - loss: 5.9203 - accuracy: 0.6524 - val_loss: 2.0301 - val_accuracy: 0.6747\n",
      "Epoch 43/100\n",
      "4/4 [==============================] - 0s 40ms/step - loss: 4.8870 - accuracy: 0.5915 - val_loss: 5.1571 - val_accuracy: 0.7229\n",
      "Epoch 44/100\n",
      "4/4 [==============================] - 0s 43ms/step - loss: 5.6238 - accuracy: 0.6250 - val_loss: 2.5582 - val_accuracy: 0.7108\n",
      "Epoch 45/100\n",
      "4/4 [==============================] - 0s 44ms/step - loss: 3.7279 - accuracy: 0.6250 - val_loss: 4.1438 - val_accuracy: 0.7108\n",
      "Epoch 46/100\n",
      "4/4 [==============================] - 0s 44ms/step - loss: 3.8680 - accuracy: 0.6982 - val_loss: 9.8232 - val_accuracy: 0.4578\n",
      "Epoch 47/100\n",
      "4/4 [==============================] - 0s 44ms/step - loss: 8.2900 - accuracy: 0.5915 - val_loss: 6.5706 - val_accuracy: 0.7349\n",
      "Epoch 48/100\n",
      "4/4 [==============================] - 0s 44ms/step - loss: 6.9599 - accuracy: 0.6037 - val_loss: 4.6633 - val_accuracy: 0.7229\n",
      "Epoch 49/100\n",
      "4/4 [==============================] - 0s 49ms/step - loss: 7.5029 - accuracy: 0.7195 - val_loss: 2.1623 - val_accuracy: 0.6747\n",
      "Epoch 50/100\n",
      "4/4 [==============================] - 0s 45ms/step - loss: 6.7355 - accuracy: 0.4939 - val_loss: 9.9389 - val_accuracy: 0.7229\n",
      "Epoch 51/100\n",
      "4/4 [==============================] - 0s 89ms/step - loss: 9.4047 - accuracy: 0.6860 - val_loss: 9.6572 - val_accuracy: 0.4578\n",
      "Epoch 52/100\n",
      "4/4 [==============================] - 0s 62ms/step - loss: 6.2626 - accuracy: 0.6280 - val_loss: 8.7044 - val_accuracy: 0.7349\n",
      "Epoch 53/100\n",
      "4/4 [==============================] - 0s 44ms/step - loss: 7.5140 - accuracy: 0.6250 - val_loss: 3.0090 - val_accuracy: 0.5060\n",
      "Epoch 54/100\n",
      "4/4 [==============================] - 0s 67ms/step - loss: 5.6852 - accuracy: 0.6067 - val_loss: 5.1892 - val_accuracy: 0.7108\n",
      "Epoch 55/100\n",
      "4/4 [==============================] - 0s 127ms/step - loss: 8.1321 - accuracy: 0.6098 - val_loss: 3.2666 - val_accuracy: 0.6988\n",
      "Epoch 56/100\n",
      "4/4 [==============================] - 0s 91ms/step - loss: 5.5777 - accuracy: 0.5762 - val_loss: 3.3586 - val_accuracy: 0.5783\n",
      "Epoch 57/100\n",
      "4/4 [==============================] - 0s 48ms/step - loss: 6.4764 - accuracy: 0.6280 - val_loss: 3.9140 - val_accuracy: 0.6024\n",
      "Epoch 58/100\n",
      "4/4 [==============================] - 0s 34ms/step - loss: 8.1495 - accuracy: 0.6098 - val_loss: 3.5610 - val_accuracy: 0.5542\n",
      "Epoch 59/100\n",
      "4/4 [==============================] - 0s 34ms/step - loss: 5.4568 - accuracy: 0.6341 - val_loss: 2.6200 - val_accuracy: 0.6867\n",
      "Epoch 60/100\n",
      "4/4 [==============================] - 0s 37ms/step - loss: 4.0683 - accuracy: 0.6280 - val_loss: 2.6369 - val_accuracy: 0.5422\n",
      "Epoch 61/100\n",
      "4/4 [==============================] - 0s 52ms/step - loss: 3.4190 - accuracy: 0.6341 - val_loss: 3.0802 - val_accuracy: 0.6506\n",
      "Epoch 62/100\n",
      "4/4 [==============================] - 0s 55ms/step - loss: 3.2543 - accuracy: 0.6250 - val_loss: 3.8728 - val_accuracy: 0.5663\n",
      "Epoch 63/100\n",
      "4/4 [==============================] - 0s 40ms/step - loss: 4.6459 - accuracy: 0.6402 - val_loss: 2.7172 - val_accuracy: 0.5663\n",
      "Epoch 64/100\n",
      "4/4 [==============================] - 0s 40ms/step - loss: 3.8032 - accuracy: 0.6128 - val_loss: 2.7398 - val_accuracy: 0.6988\n",
      "Epoch 65/100\n",
      "4/4 [==============================] - 0s 44ms/step - loss: 2.3585 - accuracy: 0.6372 - val_loss: 3.6595 - val_accuracy: 0.7108\n",
      "Epoch 66/100\n",
      "4/4 [==============================] - 0s 40ms/step - loss: 3.6444 - accuracy: 0.6372 - val_loss: 2.0490 - val_accuracy: 0.6747\n",
      "Epoch 67/100\n",
      "4/4 [==============================] - 0s 44ms/step - loss: 2.3607 - accuracy: 0.6494 - val_loss: 3.3618 - val_accuracy: 0.6988\n",
      "Epoch 68/100\n",
      "4/4 [==============================] - 0s 41ms/step - loss: 3.5220 - accuracy: 0.6037 - val_loss: 4.1030 - val_accuracy: 0.7108\n",
      "Epoch 69/100\n",
      "4/4 [==============================] - 0s 45ms/step - loss: 4.1000 - accuracy: 0.6494 - val_loss: 3.4276 - val_accuracy: 0.7108\n",
      "Epoch 70/100\n",
      "4/4 [==============================] - 0s 45ms/step - loss: 3.7017 - accuracy: 0.6006 - val_loss: 5.6691 - val_accuracy: 0.7229\n",
      "Epoch 71/100\n",
      "4/4 [==============================] - 0s 48ms/step - loss: 7.1636 - accuracy: 0.6829 - val_loss: 2.6814 - val_accuracy: 0.5422\n",
      "Epoch 72/100\n",
      "4/4 [==============================] - 0s 42ms/step - loss: 2.7866 - accuracy: 0.5762 - val_loss: 3.1393 - val_accuracy: 0.7108\n",
      "Epoch 73/100\n",
      "4/4 [==============================] - 0s 46ms/step - loss: 2.3302 - accuracy: 0.6433 - val_loss: 6.4327 - val_accuracy: 0.7229\n",
      "Epoch 74/100\n",
      "4/4 [==============================] - 0s 44ms/step - loss: 5.1784 - accuracy: 0.6616 - val_loss: 2.7515 - val_accuracy: 0.5060\n",
      "Epoch 75/100\n",
      "4/4 [==============================] - 0s 48ms/step - loss: 5.9314 - accuracy: 0.6280 - val_loss: 4.7661 - val_accuracy: 0.5783\n",
      "Epoch 76/100\n",
      "4/4 [==============================] - 0s 46ms/step - loss: 5.3360 - accuracy: 0.5579 - val_loss: 6.4632 - val_accuracy: 0.7229\n",
      "Epoch 77/100\n",
      "4/4 [==============================] - 0s 43ms/step - loss: 7.3430 - accuracy: 0.6189 - val_loss: 5.2364 - val_accuracy: 0.7229\n",
      "Epoch 78/100\n",
      "4/4 [==============================] - 0s 46ms/step - loss: 5.6250 - accuracy: 0.7226 - val_loss: 9.7904 - val_accuracy: 0.2771\n",
      "Epoch 79/100\n",
      "4/4 [==============================] - 0s 44ms/step - loss: 7.9487 - accuracy: 0.5305 - val_loss: 3.5639 - val_accuracy: 0.7229\n",
      "Epoch 80/100\n",
      "4/4 [==============================] - 0s 49ms/step - loss: 4.4392 - accuracy: 0.6189 - val_loss: 2.5728 - val_accuracy: 0.6988\n",
      "Epoch 81/100\n",
      "4/4 [==============================] - 0s 40ms/step - loss: 3.9652 - accuracy: 0.6006 - val_loss: 4.1119 - val_accuracy: 0.6988\n",
      "Epoch 82/100\n",
      "4/4 [==============================] - 0s 44ms/step - loss: 5.5278 - accuracy: 0.5610 - val_loss: 6.2849 - val_accuracy: 0.7229\n",
      "Epoch 83/100\n",
      "4/4 [==============================] - 0s 41ms/step - loss: 5.7024 - accuracy: 0.6707 - val_loss: 2.6761 - val_accuracy: 0.6265\n",
      "Epoch 84/100\n",
      "4/4 [==============================] - 0s 43ms/step - loss: 3.1877 - accuracy: 0.7043 - val_loss: 5.7282 - val_accuracy: 0.3373\n",
      "Epoch 85/100\n",
      "4/4 [==============================] - 0s 45ms/step - loss: 5.5760 - accuracy: 0.5762 - val_loss: 1.9940 - val_accuracy: 0.6988\n",
      "Epoch 86/100\n",
      "4/4 [==============================] - 0s 41ms/step - loss: 3.5737 - accuracy: 0.5762 - val_loss: 4.8052 - val_accuracy: 0.7229\n",
      "Epoch 87/100\n",
      "4/4 [==============================] - 0s 45ms/step - loss: 4.3359 - accuracy: 0.6067 - val_loss: 5.2263 - val_accuracy: 0.7229\n",
      "Epoch 88/100\n",
      "4/4 [==============================] - 0s 39ms/step - loss: 4.3602 - accuracy: 0.6768 - val_loss: 2.7612 - val_accuracy: 0.5181\n",
      "Epoch 89/100\n",
      "4/4 [==============================] - 0s 46ms/step - loss: 3.7168 - accuracy: 0.6707 - val_loss: 7.3965 - val_accuracy: 0.5060\n",
      "Epoch 90/100\n",
      "4/4 [==============================] - 0s 42ms/step - loss: 8.7512 - accuracy: 0.5549 - val_loss: 6.5763 - val_accuracy: 0.7229\n",
      "Epoch 91/100\n",
      "4/4 [==============================] - 0s 40ms/step - loss: 4.9217 - accuracy: 0.6707 - val_loss: 2.4223 - val_accuracy: 0.5904\n",
      "Epoch 92/100\n",
      "4/4 [==============================] - 0s 43ms/step - loss: 2.7766 - accuracy: 0.6616 - val_loss: 2.7446 - val_accuracy: 0.6145\n",
      "Epoch 93/100\n",
      "4/4 [==============================] - 0s 39ms/step - loss: 2.5479 - accuracy: 0.6646 - val_loss: 4.5736 - val_accuracy: 0.6988\n",
      "Epoch 94/100\n",
      "4/4 [==============================] - 0s 45ms/step - loss: 4.3298 - accuracy: 0.7165 - val_loss: 1.7863 - val_accuracy: 0.6747\n",
      "Epoch 95/100\n",
      "4/4 [==============================] - 0s 43ms/step - loss: 3.2997 - accuracy: 0.6341 - val_loss: 2.5676 - val_accuracy: 0.6867\n",
      "Epoch 96/100\n",
      "4/4 [==============================] - 0s 45ms/step - loss: 4.0919 - accuracy: 0.6311 - val_loss: 4.2735 - val_accuracy: 0.4217\n",
      "Epoch 97/100\n",
      "4/4 [==============================] - 0s 43ms/step - loss: 7.8239 - accuracy: 0.5396 - val_loss: 5.6509 - val_accuracy: 0.7470\n",
      "Epoch 98/100\n",
      "4/4 [==============================] - 0s 42ms/step - loss: 5.5900 - accuracy: 0.6463 - val_loss: 4.4029 - val_accuracy: 0.5542\n",
      "Epoch 99/100\n",
      "4/4 [==============================] - 0s 45ms/step - loss: 4.0468 - accuracy: 0.6707 - val_loss: 2.0715 - val_accuracy: 0.5181\n",
      "Epoch 100/100\n",
      "4/4 [==============================] - 0s 61ms/step - loss: 2.9225 - accuracy: 0.6159 - val_loss: 1.6508 - val_accuracy: 0.6145\n"
     ]
    }
   ],
   "source": [
    "from sklearn.model_selection import train_test_split\n",
    "X_train,X_test,Y_train,Y_test = train_test_split(x, y, test_size = 0.33, random_state = 42)\n",
    "model_history = classifier.fit(X_train, Y_train, batch_size=100, validation_split=0.2, epochs=100)"
   ]
  },
  {
   "cell_type": "code",
   "execution_count": null,
   "metadata": {},
   "outputs": [
    {
     "data": {
      "text/plain": [
       "array([0])"
      ]
     },
     "execution_count": 36,
     "metadata": {},
     "output_type": "execute_result"
    }
   ],
   "source": [
    "from sklearn.tree import DecisionTreeClassifier\n",
    "dt=DecisionTreeClassifier()\n",
    "dt.fit(X_train,Y_train)\n",
    "dt.predict([[1,1,0,1,1,4276,1542,145,240,0,1]])"
   ]
  },
  {
   "cell_type": "code",
   "execution_count": null,
   "metadata": {},
   "outputs": [
    {
     "data": {
      "text/plain": [
       "array([0])"
      ]
     },
     "execution_count": 37,
     "metadata": {},
     "output_type": "execute_result"
    }
   ],
   "source": [
    "rf=RandomForestClassifier()\n",
    "rf.fit(X_train,Y_train)\n",
    "rf.predict([[1,1,0,1,1,4276,1542,145,240,0,1]])"
   ]
  },
  {
   "cell_type": "code",
   "execution_count": null,
   "metadata": {},
   "outputs": [
    {
     "data": {
      "text/plain": [
       "array([1])"
      ]
     },
     "execution_count": 38,
     "metadata": {},
     "output_type": "execute_result"
    }
   ],
   "source": [
    "knn=KNeighborsClassifier()\n",
    "knn.fit(X_train,Y_train)\n",
    "knn.predict([[1,1,0,1,1,4276,1542,145,240,0,1]])"
   ]
  },
  {
   "cell_type": "code",
   "execution_count": null,
   "metadata": {},
   "outputs": [
    {
     "data": {
      "text/plain": [
       "array([0])"
      ]
     },
     "execution_count": 39,
     "metadata": {},
     "output_type": "execute_result"
    }
   ],
   "source": [
    "xg=GradientBoostingClassifier()\n",
    "xg.fit(X_train,Y_train)\n",
    "xg.predict([[1,1,0,1,1,4276,1542,145,240,0,1]])"
   ]
  },
  {
   "cell_type": "code",
   "execution_count": null,
   "metadata": {},
   "outputs": [],
   "source": [
    "classifier.save(\"lone.h5\")"
   ]
  },
  {
   "cell_type": "code",
   "execution_count": null,
   "metadata": {},
   "outputs": [
    {
     "name": "stdout",
     "output_type": "stream",
     "text": [
      "7/7 [==============================] - 1s 10ms/step\n"
     ]
    }
   ],
   "source": [
    "y_pred = classifier.predict(X_test)"
   ]
  },
  {
   "cell_type": "code",
   "execution_count": null,
   "metadata": {},
   "outputs": [
    {
     "data": {
      "text/plain": [
       "array([[7.24551380e-01],\n",
       "       [8.38678718e-01],\n",
       "       [9.70897794e-01],\n",
       "       [3.89631428e-02],\n",
       "       [2.27008555e-02],\n",
       "       [9.99998987e-01],\n",
       "       [6.96030140e-01],\n",
       "       [2.33943500e-02],\n",
       "       [1.64226373e-03],\n",
       "       [1.00000000e+00],\n",
       "       [1.72680825e-01],\n",
       "       [6.75692805e-04],\n",
       "       [3.84806544e-02],\n",
       "       [7.39810348e-01],\n",
       "       [9.99992847e-01],\n",
       "       [9.99998868e-01],\n",
       "       [7.42874946e-03],\n",
       "       [1.44711941e-01],\n",
       "       [8.94133758e-04],\n",
       "       [3.24655980e-01],\n",
       "       [1.82354569e-01],\n",
       "       [9.40890022e-05],\n",
       "       [5.71412563e-01],\n",
       "       [8.81656229e-01],\n",
       "       [5.22652299e-05],\n",
       "       [9.31624985e-11],\n",
       "       [9.99998569e-01],\n",
       "       [6.16839409e-01],\n",
       "       [7.74476111e-01],\n",
       "       [2.60172069e-01],\n",
       "       [5.88548720e-01],\n",
       "       [1.00000000e+00],\n",
       "       [1.80283515e-03],\n",
       "       [9.93689597e-01],\n",
       "       [9.50419426e-01],\n",
       "       [9.32250261e-01],\n",
       "       [4.43030061e-04],\n",
       "       [6.05763555e-01],\n",
       "       [7.11555004e-01],\n",
       "       [1.00000000e+00],\n",
       "       [6.43355548e-01],\n",
       "       [9.99992967e-01],\n",
       "       [8.66281465e-02],\n",
       "       [1.85282994e-03],\n",
       "       [9.99997139e-01],\n",
       "       [7.45310068e-01],\n",
       "       [3.75040561e-01],\n",
       "       [2.34402879e-03],\n",
       "       [4.23117667e-01],\n",
       "       [3.20924401e-01],\n",
       "       [4.73258458e-02],\n",
       "       [3.78345132e-01],\n",
       "       [1.00000000e+00],\n",
       "       [2.04451114e-01],\n",
       "       [9.99997437e-01],\n",
       "       [3.81096303e-01],\n",
       "       [9.58665013e-02],\n",
       "       [9.15006936e-01],\n",
       "       [1.26581860e-03],\n",
       "       [9.29706872e-01],\n",
       "       [1.40349528e-06],\n",
       "       [1.55683503e-01],\n",
       "       [2.32081667e-01],\n",
       "       [3.52126032e-01],\n",
       "       [8.05374026e-01],\n",
       "       [6.85635448e-01],\n",
       "       [1.25648163e-03],\n",
       "       [2.58414447e-01],\n",
       "       [3.99143636e-01],\n",
       "       [7.03691065e-01],\n",
       "       [1.62216332e-02],\n",
       "       [3.33744496e-01],\n",
       "       [6.10240139e-02],\n",
       "       [6.90123625e-03],\n",
       "       [8.94904956e-02],\n",
       "       [4.40921545e-01],\n",
       "       [4.29970175e-01],\n",
       "       [5.79970181e-01],\n",
       "       [2.03444026e-02],\n",
       "       [4.15367991e-01],\n",
       "       [1.25769083e-03],\n",
       "       [9.96683240e-01],\n",
       "       [6.86268210e-01],\n",
       "       [3.74190480e-04],\n",
       "       [9.95434880e-01],\n",
       "       [2.33448938e-01],\n",
       "       [4.10192698e-01],\n",
       "       [1.26514718e-01],\n",
       "       [2.44256179e-03],\n",
       "       [1.93360211e-06],\n",
       "       [1.00000000e+00],\n",
       "       [1.29056752e-01],\n",
       "       [1.00000000e+00],\n",
       "       [8.29962492e-01],\n",
       "       [5.87067741e-04],\n",
       "       [1.90581590e-01],\n",
       "       [7.06171617e-02],\n",
       "       [2.66068382e-03],\n",
       "       [1.00000000e+00],\n",
       "       [2.41940445e-03],\n",
       "       [9.18701768e-01],\n",
       "       [3.48767079e-03],\n",
       "       [4.80814844e-01],\n",
       "       [1.00000000e+00],\n",
       "       [4.08779840e-07],\n",
       "       [1.65727269e-02],\n",
       "       [1.00000000e+00],\n",
       "       [3.59186769e-01],\n",
       "       [3.84575337e-01],\n",
       "       [1.61501374e-02],\n",
       "       [5.97008765e-01],\n",
       "       [4.24014928e-04],\n",
       "       [9.36482684e-04],\n",
       "       [9.99327719e-01],\n",
       "       [2.81666927e-02],\n",
       "       [2.35505149e-01],\n",
       "       [9.99994576e-01],\n",
       "       [4.38163504e-02],\n",
       "       [2.89185822e-01],\n",
       "       [1.01536578e-02],\n",
       "       [2.48067576e-04],\n",
       "       [1.99055159e-03],\n",
       "       [2.71798877e-17],\n",
       "       [9.78029132e-01],\n",
       "       [9.99999344e-01],\n",
       "       [9.99252200e-01],\n",
       "       [9.99996364e-01],\n",
       "       [2.46610627e-01],\n",
       "       [9.99970794e-01],\n",
       "       [2.27560755e-03],\n",
       "       [8.76273494e-04],\n",
       "       [4.78023410e-01],\n",
       "       [2.81535983e-01],\n",
       "       [9.88412142e-01],\n",
       "       [9.98437107e-01],\n",
       "       [1.11994907e-01],\n",
       "       [9.89924490e-01],\n",
       "       [6.96260929e-01],\n",
       "       [4.98482734e-01],\n",
       "       [1.00000000e+00],\n",
       "       [7.38895638e-03],\n",
       "       [7.14297295e-02],\n",
       "       [2.86823481e-01],\n",
       "       [0.00000000e+00],\n",
       "       [1.88597038e-01],\n",
       "       [2.49893188e-01],\n",
       "       [9.90540981e-01],\n",
       "       [1.45732053e-03],\n",
       "       [1.82388559e-01],\n",
       "       [2.57525802e-01],\n",
       "       [8.52671623e-01],\n",
       "       [7.28522846e-03],\n",
       "       [7.27221668e-01],\n",
       "       [1.75441764e-02],\n",
       "       [1.19353575e-03],\n",
       "       [2.67573283e-03],\n",
       "       [2.21459866e-01],\n",
       "       [6.25930369e-01],\n",
       "       [7.85624564e-01],\n",
       "       [7.72309065e-01],\n",
       "       [5.96713185e-01],\n",
       "       [1.19782104e-04],\n",
       "       [2.02972628e-03],\n",
       "       [1.37438834e-01],\n",
       "       [9.52645004e-01],\n",
       "       [3.67628068e-01],\n",
       "       [3.84287328e-01],\n",
       "       [9.61236835e-01],\n",
       "       [1.00000000e+00],\n",
       "       [5.00178317e-07],\n",
       "       [1.00000000e+00],\n",
       "       [2.23855477e-06],\n",
       "       [7.56273210e-01],\n",
       "       [7.06326507e-04],\n",
       "       [7.09159195e-01],\n",
       "       [5.39685600e-04],\n",
       "       [1.41957295e-04],\n",
       "       [1.14885289e-02],\n",
       "       [1.12817709e-12],\n",
       "       [7.78234899e-01],\n",
       "       [3.28841433e-03],\n",
       "       [6.91745520e-01],\n",
       "       [4.96586487e-02],\n",
       "       [1.28224745e-01],\n",
       "       [3.00079376e-01],\n",
       "       [9.99937415e-01],\n",
       "       [9.99997199e-01],\n",
       "       [9.99998987e-01],\n",
       "       [3.08861746e-03],\n",
       "       [2.83454329e-01],\n",
       "       [9.99998927e-01],\n",
       "       [9.85882342e-01],\n",
       "       [5.37103057e-01],\n",
       "       [9.99999523e-01],\n",
       "       [5.85303418e-02],\n",
       "       [7.18778729e-01],\n",
       "       [2.71356571e-03],\n",
       "       [9.99997079e-01],\n",
       "       [3.42673477e-04],\n",
       "       [7.63096094e-01],\n",
       "       [6.49613380e-01],\n",
       "       [9.55749691e-01],\n",
       "       [8.30766559e-03]], dtype=float32)"
      ]
     },
     "execution_count": 42,
     "metadata": {},
     "output_type": "execute_result"
    }
   ],
   "source": [
    "y_pred"
   ]
  },
  {
   "cell_type": "code",
   "execution_count": null,
   "metadata": {},
   "outputs": [
    {
     "data": {
      "text/plain": [
       "array([[ True],\n",
       "       [ True],\n",
       "       [ True],\n",
       "       [False],\n",
       "       [False],\n",
       "       [ True],\n",
       "       [ True],\n",
       "       [False],\n",
       "       [False],\n",
       "       [ True],\n",
       "       [False],\n",
       "       [False],\n",
       "       [False],\n",
       "       [ True],\n",
       "       [ True],\n",
       "       [ True],\n",
       "       [False],\n",
       "       [False],\n",
       "       [False],\n",
       "       [False],\n",
       "       [False],\n",
       "       [False],\n",
       "       [ True],\n",
       "       [ True],\n",
       "       [False],\n",
       "       [False],\n",
       "       [ True],\n",
       "       [ True],\n",
       "       [ True],\n",
       "       [False],\n",
       "       [ True],\n",
       "       [ True],\n",
       "       [False],\n",
       "       [ True],\n",
       "       [ True],\n",
       "       [ True],\n",
       "       [False],\n",
       "       [ True],\n",
       "       [ True],\n",
       "       [ True],\n",
       "       [ True],\n",
       "       [ True],\n",
       "       [False],\n",
       "       [False],\n",
       "       [ True],\n",
       "       [ True],\n",
       "       [False],\n",
       "       [False],\n",
       "       [False],\n",
       "       [False],\n",
       "       [False],\n",
       "       [False],\n",
       "       [ True],\n",
       "       [False],\n",
       "       [ True],\n",
       "       [False],\n",
       "       [False],\n",
       "       [ True],\n",
       "       [False],\n",
       "       [ True],\n",
       "       [False],\n",
       "       [False],\n",
       "       [False],\n",
       "       [False],\n",
       "       [ True],\n",
       "       [ True],\n",
       "       [False],\n",
       "       [False],\n",
       "       [False],\n",
       "       [ True],\n",
       "       [False],\n",
       "       [False],\n",
       "       [False],\n",
       "       [False],\n",
       "       [False],\n",
       "       [False],\n",
       "       [False],\n",
       "       [ True],\n",
       "       [False],\n",
       "       [False],\n",
       "       [False],\n",
       "       [ True],\n",
       "       [ True],\n",
       "       [False],\n",
       "       [ True],\n",
       "       [False],\n",
       "       [False],\n",
       "       [False],\n",
       "       [False],\n",
       "       [False],\n",
       "       [ True],\n",
       "       [False],\n",
       "       [ True],\n",
       "       [ True],\n",
       "       [False],\n",
       "       [False],\n",
       "       [False],\n",
       "       [False],\n",
       "       [ True],\n",
       "       [False],\n",
       "       [ True],\n",
       "       [False],\n",
       "       [False],\n",
       "       [ True],\n",
       "       [False],\n",
       "       [False],\n",
       "       [ True],\n",
       "       [False],\n",
       "       [False],\n",
       "       [False],\n",
       "       [ True],\n",
       "       [False],\n",
       "       [False],\n",
       "       [ True],\n",
       "       [False],\n",
       "       [False],\n",
       "       [ True],\n",
       "       [False],\n",
       "       [False],\n",
       "       [False],\n",
       "       [False],\n",
       "       [False],\n",
       "       [False],\n",
       "       [ True],\n",
       "       [ True],\n",
       "       [ True],\n",
       "       [ True],\n",
       "       [False],\n",
       "       [ True],\n",
       "       [False],\n",
       "       [False],\n",
       "       [False],\n",
       "       [False],\n",
       "       [ True],\n",
       "       [ True],\n",
       "       [False],\n",
       "       [ True],\n",
       "       [ True],\n",
       "       [False],\n",
       "       [ True],\n",
       "       [False],\n",
       "       [False],\n",
       "       [False],\n",
       "       [False],\n",
       "       [False],\n",
       "       [False],\n",
       "       [ True],\n",
       "       [False],\n",
       "       [False],\n",
       "       [False],\n",
       "       [ True],\n",
       "       [False],\n",
       "       [ True],\n",
       "       [False],\n",
       "       [False],\n",
       "       [False],\n",
       "       [False],\n",
       "       [ True],\n",
       "       [ True],\n",
       "       [ True],\n",
       "       [ True],\n",
       "       [False],\n",
       "       [False],\n",
       "       [False],\n",
       "       [ True],\n",
       "       [False],\n",
       "       [False],\n",
       "       [ True],\n",
       "       [ True],\n",
       "       [False],\n",
       "       [ True],\n",
       "       [False],\n",
       "       [ True],\n",
       "       [False],\n",
       "       [ True],\n",
       "       [False],\n",
       "       [False],\n",
       "       [False],\n",
       "       [False],\n",
       "       [ True],\n",
       "       [False],\n",
       "       [ True],\n",
       "       [False],\n",
       "       [False],\n",
       "       [False],\n",
       "       [ True],\n",
       "       [ True],\n",
       "       [ True],\n",
       "       [False],\n",
       "       [False],\n",
       "       [ True],\n",
       "       [ True],\n",
       "       [ True],\n",
       "       [ True],\n",
       "       [False],\n",
       "       [ True],\n",
       "       [False],\n",
       "       [ True],\n",
       "       [False],\n",
       "       [ True],\n",
       "       [ True],\n",
       "       [ True],\n",
       "       [False]])"
      ]
     },
     "execution_count": 43,
     "metadata": {},
     "output_type": "execute_result"
    }
   ],
   "source": [
    "y_pred = (y_pred > 0.5)\n",
    "y_pred"
   ]
  },
  {
   "cell_type": "code",
   "execution_count": null,
   "metadata": {},
   "outputs": [],
   "source": [
    "def predict_exit(sample_value):\n",
    "    sample_value = np.array(sample_value)\n",
    "    sample_value = sample_value.reshape(1,-1)\n",
    "    sample_value = sc.transform(sample_value)\n",
    "    return classifier.predict(sample_value)"
   ]
  },
  {
   "cell_type": "code",
   "execution_count": null,
   "metadata": {},
   "outputs": [
    {
     "name": "stdout",
     "output_type": "stream",
     "text": [
      "1/1 [==============================] - 0s 465ms/step\n",
      "Prediction: High chance of Loan Approvall\n"
     ]
    }
   ],
   "source": [
    "import numpy as np\n",
    "import tensorflow\n",
    "sample_value = [[1,0,1,1,3,45,14,45,240,1,1]]\n",
    "if predict_exit(sample_value)>0.5:\n",
    "    print('Prediction: High chance of Loan Approvall')\n",
    "else:\n",
    "    print('Prediction: low chance of Loan Approval.')"
   ]
  },
  {
   "cell_type": "code",
   "execution_count": null,
   "metadata": {},
   "outputs": [],
   "source": [
    "def compareModel(X_train,X_test,Y_train,Y_test):\n",
    "    decisionTree(X_train, X_test, Y_train, Y_test)\n",
    "    print('-'*100)\n",
    "    randomForest(X_train, X_test, Y_train, Y_test)\n",
    "    print('-'*100)\n",
    "    KNN(X_train,X_test,Y_train,Y_test)\n",
    "    print('-'*100)\n",
    "    xgboost(X_train, X_test, Y_train, Y_test)\n",
    "    print('-'*100)\n",
    "    "
   ]
  },
  {
   "cell_type": "code",
   "execution_count": null,
   "metadata": {},
   "outputs": [
    {
     "name": "stdout",
     "output_type": "stream",
     "text": [
      "***Decision TreeClassifier***\n",
      "Confusion matrix\n",
      "[[ 34  38]\n",
      " [ 27 104]]\n",
      "Classification report\n",
      "              precision    recall  f1-score   support\n",
      "\n",
      "           0       0.56      0.47      0.51        72\n",
      "           1       0.73      0.79      0.76       131\n",
      "\n",
      "    accuracy                           0.68       203\n",
      "   macro avg       0.64      0.63      0.64       203\n",
      "weighted avg       0.67      0.68      0.67       203\n",
      "\n",
      "----------------------------------------------------------------------------------------------------\n",
      "***RandomForestClassifier***\n",
      "Confusion matrix\n",
      "[[ 36  36]\n",
      " [  8 123]]\n",
      "Classification report\n",
      "              precision    recall  f1-score   support\n",
      "\n",
      "           0       0.82      0.50      0.62        72\n",
      "           1       0.77      0.94      0.85       131\n",
      "\n",
      "    accuracy                           0.78       203\n",
      "   macro avg       0.80      0.72      0.73       203\n",
      "weighted avg       0.79      0.78      0.77       203\n",
      "\n",
      "----------------------------------------------------------------------------------------------------\n",
      "***KNeighborsClassifier***\n",
      "Confusion matrix\n",
      "[[  8  64]\n",
      " [ 24 107]]\n",
      "Classification report\n",
      "              precision    recall  f1-score   support\n",
      "\n",
      "           0       0.25      0.11      0.15        72\n",
      "           1       0.63      0.82      0.71       131\n",
      "\n",
      "    accuracy                           0.57       203\n",
      "   macro avg       0.44      0.46      0.43       203\n",
      "weighted avg       0.49      0.57      0.51       203\n",
      "\n",
      "----------------------------------------------------------------------------------------------------\n",
      "***GradientBoostingClassifier***\n",
      "Confusion matrix\n",
      "[[ 32  40]\n",
      " [ 10 121]]\n",
      "Classification report\n",
      "              precision    recall  f1-score   support\n",
      "\n",
      "           0       0.76      0.44      0.56        72\n",
      "           1       0.75      0.92      0.83       131\n",
      "\n",
      "    accuracy                           0.75       203\n",
      "   macro avg       0.76      0.68      0.70       203\n",
      "weighted avg       0.76      0.75      0.73       203\n",
      "\n",
      "----------------------------------------------------------------------------------------------------\n"
     ]
    }
   ],
   "source": [
    "compareModel(X_train,X_test,Y_train,Y_test)\n"
   ]
  },
  {
   "cell_type": "code",
   "execution_count": null,
   "metadata": {},
   "outputs": [
    {
     "name": "stdout",
     "output_type": "stream",
     "text": [
      "7/7 [==============================] - 0s 4ms/step\n",
      "0.4827586206896552\n",
      "ANN Model\n",
      "Confusion_Matrix\n",
      "[[43 29]\n",
      " [76 55]]\n",
      "Classification Report\n",
      "              precision    recall  f1-score   support\n",
      "\n",
      "           0       0.36      0.60      0.45        72\n",
      "           1       0.65      0.42      0.51       131\n",
      "\n",
      "    accuracy                           0.48       203\n",
      "   macro avg       0.51      0.51      0.48       203\n",
      "weighted avg       0.55      0.48      0.49       203\n",
      "\n"
     ]
    }
   ],
   "source": [
    "ypred = classifier.predict(X_test)\n",
    "print(accuracy_score(y_pred,Y_test))\n",
    "print(\"ANN Model\")\n",
    "print(\"Confusion_Matrix\")\n",
    "print(confusion_matrix(Y_test,y_pred))\n",
    "print(\"Classification Report\")\n",
    "print(classification_report(Y_test,y_pred))"
   ]
  },
  {
   "cell_type": "code",
   "execution_count": null,
   "metadata": {},
   "outputs": [],
   "source": [
    "from sklearn.model_selection import cross_val_score"
   ]
  },
  {
   "cell_type": "code",
   "execution_count": null,
   "metadata": {},
   "outputs": [],
   "source": [
    "rf = RandomForestClassifier()\n",
    "rf.fit(X_train,Y_train)\n",
    "yPred = rf.predict(X_test)"
   ]
  },
  {
   "cell_type": "code",
   "execution_count": null,
   "metadata": {},
   "outputs": [
    {
     "data": {
      "text/plain": [
       "0.4756546601896909"
      ]
     },
     "execution_count": 51,
     "metadata": {},
     "output_type": "execute_result"
    }
   ],
   "source": [
    "f1_score(y_pred,Y_test,average='weighted')"
   ]
  },
  {
   "cell_type": "code",
   "execution_count": null,
   "metadata": {},
   "outputs": [],
   "source": [
    "cv = cross_val_score(rf,x,y,cv=5)\n"
   ]
  },
  {
   "cell_type": "code",
   "execution_count": null,
   "metadata": {},
   "outputs": [
    {
     "data": {
      "text/plain": [
       "0.7784886045581768"
      ]
     },
     "execution_count": 53,
     "metadata": {},
     "output_type": "execute_result"
    }
   ],
   "source": [
    "np.mean(cv)"
   ]
  },
  {
   "cell_type": "code",
   "execution_count": null,
   "metadata": {},
   "outputs": [],
   "source": [
    "model=randomForest\n",
    "pickle.dump(model,open('rdf.pk1','wb'))"
   ]
  },
  {
   "cell_type": "code",
   "execution_count": null,
   "metadata": {},
   "outputs": [
    {
     "data": {
      "text/plain": [
       "1"
      ]
     },
     "execution_count": 55,
     "metadata": {},
     "output_type": "execute_result"
    }
   ],
   "source": [
    "1"
   ]
  }
 ],
 "metadata": {
  "kernelspec": {
   "display_name": "base",
   "language": "python",
   "name": "python3"
  },
  "language_info": {
   "codemirror_mode": {
    "name": "ipython",
    "version": 3
   },
   "file_extension": ".py",
   "mimetype": "text/x-python",
   "name": "python",
   "nbconvert_exporter": "python",
   "pygments_lexer": "ipython3",
   "version": "3.11.3"
  },
  "orig_nbformat": 4
 },
 "nbformat": 4,
 "nbformat_minor": 2
}
